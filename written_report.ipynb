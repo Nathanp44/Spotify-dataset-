{
  "nbformat": 4,
  "nbformat_minor": 0,
  "metadata": {
    "colab": {
      "provenance": [],
      "authorship_tag": "ABX9TyNrvd3ObQzLg8o6oyL3Zsbu",
      "include_colab_link": true
    },
    "kernelspec": {
      "name": "python3",
      "display_name": "Python 3"
    },
    "language_info": {
      "name": "python"
    }
  },
  "cells": [
    {
      "cell_type": "markdown",
      "metadata": {
        "id": "view-in-github",
        "colab_type": "text"
      },
      "source": [
        "<a href=\"https://colab.research.google.com/github/Nathanp44/Spotify-dataset-/blob/main/written_report.ipynb\" target=\"_parent\"><img src=\"https://colab.research.google.com/assets/colab-badge.svg\" alt=\"Open In Colab\"/></a>"
      ]
    },
    {
      "cell_type": "markdown",
      "source": [
        "Spotify datset written report\n",
        "Nathan Perez"
      ],
      "metadata": {
        "id": "Ib1nd22IbxZy"
      }
    },
    {
      "cell_type": "markdown",
      "source": [
        "This project explores how audio features influence the success of top Spotify songs from 2023. A statistical test comparing danceability between charted and non-charted songs found no significant difference. To further investigate, a logistic regression model was built to predict playlist inclusion using features like energy, danceability, and acousticness. Energy stood out as the strongest predictor, showing a clear link to playlist success. While model accuracy was moderate (57%), the findings suggest that high-energy songs are more likely to gain visibility on Spotify."
      ],
      "metadata": {
        "id": "XJC8-S_ocQVM"
      }
    },
    {
      "cell_type": "markdown",
      "source": [
        "Research question: Do audio features affect the success of songs"
      ],
      "metadata": {
        "id": "eMZ-HjRpb5q6"
      }
    },
    {
      "cell_type": "markdown",
      "source": [],
      "metadata": {
        "id": "cb-BA2uUcFij"
      }
    }
  ]
}